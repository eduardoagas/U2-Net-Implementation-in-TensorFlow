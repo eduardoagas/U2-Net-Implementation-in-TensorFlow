{
 "cells": [
  {
   "cell_type": "code",
   "execution_count": 1,
   "metadata": {},
   "outputs": [],
   "source": [
    "import os\n",
    "os.environ[\"TF_CPP_MIN_LOG_LEVEL\"] = \"2\"\n",
    "\n",
    "import tensorflow as tf\n",
    "from keras.layers import Input, Conv2D, BatchNormalization, Activation, MaxPool2D, UpSampling2D, Concatenate, Add\n"
   ]
  },
  {
   "cell_type": "code",
   "execution_count": 2,
   "metadata": {},
   "outputs": [],
   "source": [
    "def conv_block(inputs, out_ch, rate = 1):\n",
    "    x = Conv2D(out_ch, 3, padding=\"same\", dilation_rate=1)(inputs)\n",
    "    x = BatchNormalization()(x)\n",
    "    x = Activation(\"relu\")(x)\n",
    "    return x"
   ]
  },
  {
   "cell_type": "code",
   "execution_count": 3,
   "metadata": {},
   "outputs": [],
   "source": [
    "def RSU_L(inputs, out_ch, int_ch, num_layers, rate=2):\n",
    "    \"\"\" Initial Convolution \"\"\"\n",
    "    x = conv_block(inputs, out_ch)\n",
    "    init_feats = x\n",
    "    \n",
    "    \"\"\" Encoder \"\"\"\n",
    "    skip = []\n",
    "    x = conv_block(x, int_ch)\n",
    "    skip.append(x)\n",
    "    \n",
    "    for i in range(num_layers-2):\n",
    "        x = MaxPool2D((2,2))(x)\n",
    "        x = conv_block(x, int_ch)\n",
    "        skip.append(x)\n",
    "\n",
    "    \"\"\" Bridge \"\"\"\n",
    "    x = conv_block(x, int_ch, rate=rate)\n",
    "\n",
    "    \"\"\" Decoder \"\"\"\n",
    "    skip.reverse()\n",
    "\n",
    "    x = Concatenate()([x, skip[0]])\n",
    "    x = conv_block(x, int_ch)\n",
    "\n",
    "    for i in range(num_layers-3):\n",
    "        x = UpSampling2D(size=(2,2), interpolation=\"bilinear\")(x)\n",
    "        x = Concatenate()([x, skip[i+1]])\n",
    "        x = conv_block(x, int_ch)\n",
    "\n",
    "    x = UpSampling2D(size=(2,2), interpolation=\"bilinear\")(x)\n",
    "    x = Concatenate()([x, skip[-1]])\n",
    "    x = conv_block(x, out_ch)\n",
    "\n",
    "    \"\"\" Add \"\"\"\n",
    "    x = Add()([x, init_feats])\n",
    "    return x"
   ]
  },
  {
   "cell_type": "code",
   "execution_count": 4,
   "metadata": {},
   "outputs": [],
   "source": [
    "def RSU_4F(inputs, out_ch, int_ch):\n",
    "    \"\"\" Initial Conv \"\"\"\n",
    "    x0 = conv_block(inputs, out_ch, rate=1)\n",
    "\n",
    "    \"\"\" Encoder \"\"\"\n",
    "    x1 = conv_block(x0, int_ch, rate=1)\n",
    "    x2 = conv_block(x1, int_ch, rate=2)\n",
    "    x3 = conv_block(x2, int_ch, rate=4)\n",
    "\n",
    "    \"\"\" Bridge \"\"\"\n",
    "    x4 = conv_block(x3, int_ch, rate=8)\n",
    "\n",
    "    \"\"\" Decoder \"\"\"\n",
    "    x = Concatenate()([x4, x3])\n",
    "    x = conv_block(x, int_ch, rate=4)\n",
    "\n",
    "    x = Concatenate()([x, x2])\n",
    "    x = conv_block(x, int_ch, rate=2)\n",
    "\n",
    "    x = Concatenate()([x, x1])\n",
    "    x = conv_block(x, out_ch, rate=1)\n",
    "\n",
    "    \"\"\" Addition \"\"\"\n",
    "    x = Add()([x, x0])\n",
    "    return x\n"
   ]
  },
  {
   "cell_type": "code",
   "execution_count": 5,
   "metadata": {},
   "outputs": [],
   "source": [
    "def u2net(input_shape, out_ch, int_ch, num_classes=1):\n",
    "    \"\"\" Input Layer \"\"\"\n",
    "    inputs = Input(input_shape)\n",
    "    s0 = inputs\n",
    "\n",
    "    \"\"\" Encoder \"\"\"\n",
    "    s1 = RSU_L(s0, out_ch[0], int_ch[0], 7)\n",
    "    p1 = MaxPool2D((2,2))(s1)\n",
    "\n",
    "    s2 = RSU_L(p1, out_ch[1], int_ch[1], 6)\n",
    "    p2 = MaxPool2D((2,2))(s2)\n",
    "\n",
    "    s3 = RSU_L(p2, out_ch[2], int_ch[2], 5)\n",
    "    p3 = MaxPool2D((2,2))(s3)\n",
    "\n",
    "    s4 = RSU_L(p3, out_ch[3], int_ch[3], 4)\n",
    "    p4 = MaxPool2D((2,2))(s4)\n",
    "\n",
    "    s5 = RSU_4F(p4, out_ch[4], int_ch[4])\n",
    "    p5 = MaxPool2D((2,2))(s5)\n",
    "\n",
    "    \"\"\"\" Bridge \"\"\"\n",
    "\n",
    "    b1 = RSU_4F(p5, out_ch[5], int_ch[5])\n",
    "    b2 = UpSampling2D(size=(2,2), interpolation=\"bilinear\")(b1)\n",
    "\n",
    "    \"\"\" Decoder \"\"\"\n",
    "    print(b2.shape, s5.shape)\n",
    "    d1 = Concatenate()([b2, s5])\n",
    "    d1 = RSU_4F(d1, out_ch[6], int_ch[6])\n",
    "    u1 = UpSampling2D(size=(2,2), interpolation=\"bilinear\")(d1)\n"
   ]
  },
  {
   "cell_type": "code",
   "execution_count": 6,
   "metadata": {},
   "outputs": [
    {
     "ename": "ValueError",
     "evalue": "A `Concatenate` layer requires inputs with matching shapes except for the concatenation axis. Received: input_shape=[(None, 512, 512, 32), (None, 64, 64, 32)]",
     "output_type": "error",
     "traceback": [
      "\u001b[1;31m---------------------------------------------------------------------------\u001b[0m",
      "\u001b[1;31mValueError\u001b[0m                                Traceback (most recent call last)",
      "Cell \u001b[1;32mIn[6], line 5\u001b[0m\n\u001b[0;32m      2\u001b[0m out_ch \u001b[39m=\u001b[39m [\u001b[39m64\u001b[39m, \u001b[39m128\u001b[39m, \u001b[39m256\u001b[39m, \u001b[39m512\u001b[39m, \u001b[39m512\u001b[39m, \u001b[39m512\u001b[39m, \u001b[39m512\u001b[39m, \u001b[39m256\u001b[39m, \u001b[39m128\u001b[39m, \u001b[39m64\u001b[39m, \u001b[39m64\u001b[39m]\n\u001b[0;32m      3\u001b[0m int_ch \u001b[39m=\u001b[39m [\u001b[39m32\u001b[39m, \u001b[39m32\u001b[39m, \u001b[39m64\u001b[39m, \u001b[39m128\u001b[39m, \u001b[39m256\u001b[39m, \u001b[39m256\u001b[39m, \u001b[39m256\u001b[39m, \u001b[39m128\u001b[39m, \u001b[39m64\u001b[39m, \u001b[39m32\u001b[39m, \u001b[39m16\u001b[39m]\n\u001b[1;32m----> 5\u001b[0m u2net((\u001b[39m512\u001b[39;49m,\u001b[39m512\u001b[39;49m,\u001b[39m3\u001b[39;49m), out_ch, int_ch)\n",
      "Cell \u001b[1;32mIn[5], line 7\u001b[0m, in \u001b[0;36mu2net\u001b[1;34m(input_shape, out_ch, int_ch, num_classes)\u001b[0m\n\u001b[0;32m      4\u001b[0m s0 \u001b[39m=\u001b[39m inputs\n\u001b[0;32m      6\u001b[0m \u001b[39m\u001b[39m\u001b[39m\"\"\" Encoder \"\"\"\u001b[39;00m\n\u001b[1;32m----> 7\u001b[0m s1 \u001b[39m=\u001b[39m RSU_L(s0, out_ch[\u001b[39m0\u001b[39;49m], int_ch[\u001b[39m0\u001b[39;49m], \u001b[39m7\u001b[39;49m)\n\u001b[0;32m      8\u001b[0m p1 \u001b[39m=\u001b[39m MaxPool2D((\u001b[39m2\u001b[39m,\u001b[39m2\u001b[39m))(s1)\n\u001b[0;32m     10\u001b[0m s2 \u001b[39m=\u001b[39m RSU_L(p1, out_ch[\u001b[39m1\u001b[39m], int_ch[\u001b[39m1\u001b[39m], \u001b[39m6\u001b[39m)\n",
      "Cell \u001b[1;32mIn[3], line 31\u001b[0m, in \u001b[0;36mRSU_L\u001b[1;34m(inputs, out_ch, int_ch, num_layers, rate)\u001b[0m\n\u001b[0;32m     28\u001b[0m     x \u001b[39m=\u001b[39m conv_block(x, int_ch)\n\u001b[0;32m     30\u001b[0m x \u001b[39m=\u001b[39m UpSampling2D(size\u001b[39m=\u001b[39m(\u001b[39m2\u001b[39m,\u001b[39m2\u001b[39m), interpolation\u001b[39m=\u001b[39m\u001b[39m\"\u001b[39m\u001b[39mbilinear\u001b[39m\u001b[39m\"\u001b[39m)(x)\n\u001b[1;32m---> 31\u001b[0m x \u001b[39m=\u001b[39m Concatenate()([x, skip[i\u001b[39m-\u001b[39;49m\u001b[39m1\u001b[39;49m]])\n\u001b[0;32m     32\u001b[0m x \u001b[39m=\u001b[39m conv_block(x, out_ch)\n\u001b[0;32m     34\u001b[0m \u001b[39m\u001b[39m\u001b[39m\"\"\" Add \"\"\"\u001b[39;00m\n",
      "File \u001b[1;32mc:\\Users\\Du\\Documents\\Python\\U2NetT\\keras-env\\lib\\site-packages\\keras\\src\\utils\\traceback_utils.py:70\u001b[0m, in \u001b[0;36mfilter_traceback.<locals>.error_handler\u001b[1;34m(*args, **kwargs)\u001b[0m\n\u001b[0;32m     67\u001b[0m     filtered_tb \u001b[39m=\u001b[39m _process_traceback_frames(e\u001b[39m.\u001b[39m__traceback__)\n\u001b[0;32m     68\u001b[0m     \u001b[39m# To get the full stack trace, call:\u001b[39;00m\n\u001b[0;32m     69\u001b[0m     \u001b[39m# `tf.debugging.disable_traceback_filtering()`\u001b[39;00m\n\u001b[1;32m---> 70\u001b[0m     \u001b[39mraise\u001b[39;00m e\u001b[39m.\u001b[39mwith_traceback(filtered_tb) \u001b[39mfrom\u001b[39;00m \u001b[39mNone\u001b[39;00m\n\u001b[0;32m     71\u001b[0m \u001b[39mfinally\u001b[39;00m:\n\u001b[0;32m     72\u001b[0m     \u001b[39mdel\u001b[39;00m filtered_tb\n",
      "File \u001b[1;32mc:\\Users\\Du\\Documents\\Python\\U2NetT\\keras-env\\lib\\site-packages\\keras\\src\\layers\\merging\\concatenate.py:131\u001b[0m, in \u001b[0;36mConcatenate.build\u001b[1;34m(self, input_shape)\u001b[0m\n\u001b[0;32m    125\u001b[0m unique_dims \u001b[39m=\u001b[39m \u001b[39mset\u001b[39m(\n\u001b[0;32m    126\u001b[0m     shape[axis]\n\u001b[0;32m    127\u001b[0m     \u001b[39mfor\u001b[39;00m shape \u001b[39min\u001b[39;00m shape_set\n\u001b[0;32m    128\u001b[0m     \u001b[39mif\u001b[39;00m shape[axis] \u001b[39mis\u001b[39;00m \u001b[39mnot\u001b[39;00m \u001b[39mNone\u001b[39;00m\n\u001b[0;32m    129\u001b[0m )\n\u001b[0;32m    130\u001b[0m \u001b[39mif\u001b[39;00m \u001b[39mlen\u001b[39m(unique_dims) \u001b[39m>\u001b[39m \u001b[39m1\u001b[39m:\n\u001b[1;32m--> 131\u001b[0m     \u001b[39mraise\u001b[39;00m \u001b[39mValueError\u001b[39;00m(err_msg)\n",
      "\u001b[1;31mValueError\u001b[0m: A `Concatenate` layer requires inputs with matching shapes except for the concatenation axis. Received: input_shape=[(None, 512, 512, 32), (None, 64, 64, 32)]"
     ]
    }
   ],
   "source": [
    "if __name__ == \"__main__\":\n",
    "    out_ch = [64, 128, 256, 512, 512, 512, 512, 256, 128, 64, 64]\n",
    "    int_ch = [32, 32, 64, 128, 256, 256, 256, 128, 64, 32, 16]\n",
    "\n",
    "    u2net((512,512,3), out_ch, int_ch)"
   ]
  }
 ],
 "metadata": {
  "kernelspec": {
   "display_name": "Python 3",
   "language": "python",
   "name": "python3"
  },
  "language_info": {
   "codemirror_mode": {
    "name": "ipython",
    "version": 3
   },
   "file_extension": ".py",
   "mimetype": "text/x-python",
   "name": "python",
   "nbconvert_exporter": "python",
   "pygments_lexer": "ipython3",
   "version": "3.10.2"
  },
  "orig_nbformat": 4
 },
 "nbformat": 4,
 "nbformat_minor": 2
}
