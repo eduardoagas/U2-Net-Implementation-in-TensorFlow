{
 "cells": [
  {
   "cell_type": "code",
   "execution_count": 3,
   "metadata": {},
   "outputs": [],
   "source": [
    "import os\n",
    "os.environ[\"TF_CPP_MIN_LOG_LEVEL\"] = \"2\"\n",
    "\n",
    "import tensorflow as tf\n",
    "from keras.layers import Input, Conv2D, BatchNormalization, Activation, MaxPool2D, UpSampling2D, Concatenate, Add\n"
   ]
  },
  {
   "cell_type": "code",
   "execution_count": 2,
   "metadata": {},
   "outputs": [],
   "source": [
    "def conv_block(inputs, out_ch, rate = 1):\n",
    "    x = Conv2D(out_ch, 3, padding=\"same\", dilatation_rate=1)(inputs)\n",
    "    x = BatchNormalization()(x)\n",
    "    x = Activation(\"relu\")(x)\n",
    "    return x"
   ]
  },
  {
   "cell_type": "code",
   "execution_count": null,
   "metadata": {},
   "outputs": [],
   "source": [
    "def RSU_L(inputs, out_ch, int_ch, num_layers, rate = 2):\n",
    "    \"\"\" Initial Convolution \"\"\"\n",
    "    x = conv_block(inputs, out_ch)\n",
    "    init_feats = x\n",
    "    \n",
    "    \"\"\" Encoder \"\"\"\n",
    "    skip = []\n",
    "    x = conv_block(x, int_ch)\n",
    "    skip.append(x)\n",
    "    \n",
    "    for i in range(num_layers - 2):\n",
    "        x = MaxPool2D((2,2))\n",
    "        x = "
   ]
  }
 ],
 "metadata": {
  "kernelspec": {
   "display_name": "Python 3",
   "language": "python",
   "name": "python3"
  },
  "language_info": {
   "codemirror_mode": {
    "name": "ipython",
    "version": 3
   },
   "file_extension": ".py",
   "mimetype": "text/x-python",
   "name": "python",
   "nbconvert_exporter": "python",
   "pygments_lexer": "ipython3",
   "version": "3.10.2"
  },
  "orig_nbformat": 4
 },
 "nbformat": 4,
 "nbformat_minor": 2
}
